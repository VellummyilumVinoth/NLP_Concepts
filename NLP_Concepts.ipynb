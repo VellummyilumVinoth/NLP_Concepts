{
  "nbformat": 4,
  "nbformat_minor": 0,
  "metadata": {
    "colab": {
      "provenance": [],
      "authorship_tag": "ABX9TyMDJUHygGhrFVHWc5o32Xk7",
      "include_colab_link": true
    },
    "kernelspec": {
      "name": "python3",
      "display_name": "Python 3"
    },
    "language_info": {
      "name": "python"
    }
  },
  "cells": [
    {
      "cell_type": "markdown",
      "metadata": {
        "id": "view-in-github",
        "colab_type": "text"
      },
      "source": [
        "<a href=\"https://colab.research.google.com/github/VellummyilumVinoth/NLP_Concepts/blob/main/NLP_Concepts.ipynb\" target=\"_parent\"><img src=\"https://colab.research.google.com/assets/colab-badge.svg\" alt=\"Open In Colab\"/></a>"
      ]
    },
    {
      "cell_type": "markdown",
      "source": [
        "# Different types of document using Python"
      ],
      "metadata": {
        "id": "fJTH15OFz_j6"
      }
    },
    {
      "cell_type": "markdown",
      "source": [
        "### Read PDF file with Python"
      ],
      "metadata": {
        "id": "QWEx0FDWsfAJ"
      }
    },
    {
      "cell_type": "code",
      "execution_count": null,
      "metadata": {
        "colab": {
          "base_uri": "https://localhost:8080/"
        },
        "id": "m4jZ54UfrI7D",
        "outputId": "5c695845-425a-42ec-de1b-b4eafb9b900e"
      },
      "outputs": [
        {
          "output_type": "stream",
          "name": "stdout",
          "text": [
            "Looking in indexes: https://pypi.org/simple, https://us-python.pkg.dev/colab-wheels/public/simple/\n",
            "Requirement already satisfied: PyPDF2 in /usr/local/lib/python3.8/dist-packages (3.0.1)\n",
            "Requirement already satisfied: typing_extensions>=3.10.0.0 in /usr/local/lib/python3.8/dist-packages (from PyPDF2) (4.5.0)\n"
          ]
        }
      ],
      "source": [
        "!pip install PyPDF2"
      ]
    },
    {
      "cell_type": "code",
      "source": [
        "# importing required modules\n",
        "import PyPDF2"
      ],
      "metadata": {
        "id": "fO4scppVtF-M"
      },
      "execution_count": null,
      "outputs": []
    },
    {
      "cell_type": "code",
      "source": [
        "# creating a pdf file object\n",
        "data = open('/content/Image+Processing+with+Python.pdf','rb')\n",
        "\n",
        "# creating a pdf reader object\n",
        "reader = PyPDF2.PdfReader(data)\n",
        "\n",
        "# printing number of pages in pdf file\n",
        "print(len(reader.pages))"
      ],
      "metadata": {
        "colab": {
          "base_uri": "https://localhost:8080/"
        },
        "id": "wYCvqPDxtYDC",
        "outputId": "3978c1a9-d1d9-46da-a826-638b9a212dbd"
      },
      "execution_count": null,
      "outputs": [
        {
          "output_type": "stream",
          "name": "stdout",
          "text": [
            "21\n"
          ]
        }
      ]
    },
    {
      "cell_type": "code",
      "source": [
        "# creating a page object\n",
        "page = reader.pages[1]"
      ],
      "metadata": {
        "id": "FygrB8oruNdz"
      },
      "execution_count": null,
      "outputs": []
    },
    {
      "cell_type": "code",
      "source": [
        "# extracting text from page\n",
        "print(page.extract_text())\n",
        "\n",
        "# closing the pdf file object \n",
        "# data.close()"
      ],
      "metadata": {
        "colab": {
          "base_uri": "https://localhost:8080/"
        },
        "id": "4kQjibV4wy1m",
        "outputId": "43b440cc-8265-4ac2-e3d9-27ea7c633c96"
      },
      "execution_count": null,
      "outputs": [
        {
          "output_type": "stream",
          "name": "stdout",
          "text": [
            "Proprietary content. ©Great Learning. All Rights Reserved. Unauthorized use or distribution prohibited\n",
            "Agenda\n",
            "What is Image Processing?\n",
            " 1\n",
            "Traditional ML VS Deep learning\n",
            " 2\n",
            "How Image Input work in computer?\n",
            " 4\n",
            "Human brain VS AI\n",
            " 3\n",
            "What is CNN?\n",
            " 5\n",
            "Convolutional Layer\n",
            "6\n",
            " Layers in CNN\n",
            "7\n",
            "Relu layer\n",
            "8\n",
            "Pooling layer\n",
            " 9\n",
            "Fully connected layer\n",
            "10\n",
            "Proprietary content. ©Great Learning. All Rights Reserved. Unauthorized use or distribution prohibited\n",
            "Demo: Image Processing with Python\n",
            "11\n",
            "\n"
          ]
        }
      ]
    },
    {
      "cell_type": "markdown",
      "source": [
        "### Working with text file in Python"
      ],
      "metadata": {
        "id": "gXqPHCKDxODV"
      }
    },
    {
      "cell_type": "code",
      "source": [
        "text_data = open('/content/Important','r')\n",
        "print(text_data.read())"
      ],
      "metadata": {
        "colab": {
          "base_uri": "https://localhost:8080/"
        },
        "id": "stnAIWBGxMiQ",
        "outputId": "8f565076-933a-426c-faa4-87454937d006"
      },
      "execution_count": null,
      "outputs": [
        {
          "output_type": "stream",
          "name": "stdout",
          "text": [
            "package org.example;\n",
            "\n",
            "import io.ballerinalang.compiler.syntax.tree.*;\n",
            "import io.ballerinalang.compiler.text.TextDocument;\n",
            "import io.ballerinalang.compiler.text.TextDocuments;\n",
            "\n",
            "import java.io.*;\n",
            "import java.nio.file.Files;\n",
            "import java.nio.file.Path;\n",
            "import java.nio.file.Paths;\n",
            "import java.util.ArrayList;\n",
            "import java.util.List;\n",
            "import java.util.regex.Matcher;\n",
            "import java.util.regex.Pattern;\n",
            "\n",
            "public class Main {\n",
            "    public static void main(String[] args) {\n",
            "        Path filePath = Paths.get(\"/home/vinoth/greeter/main.bal\");\n",
            "\n",
            "        if (filePath == null || filePath.toString().isEmpty()) {\n",
            "            System.out.println(\"File path is empty. Please provide a valid path\");\n",
            "            return;\n",
            "        }\n",
            "\n",
            "        try {\n",
            "            // Use try-with-resources to automatically close file stream\n",
            "            String fileContent = Files.readString(filePath);\n",
            "            fileContent = fileContent.replaceAll(\"/\\\\*([^*]|[\\\\r\\\\n]|(\\\\*+([^*/]|[\\\\r\\\\n])))*\\\\*+/\", \"\"); // remove multi-line comments\n",
            "            fileContent = fileContent.replaceAll(\"//.*\", \"\"); // remove single-line comments\n",
            "            TextDocument textDocument = TextDocuments.from(fileContent);\n",
            "            SyntaxTree syntaxTree = SyntaxTree.from(textDocument);\n",
            "            StatementVisitor visitor = new StatementVisitor();\n",
            "            syntaxTree.rootNode().accept(visitor);\n",
            "            visitor.writeToCSV(\"output.csv\");\n",
            "        } catch (IOException e) {\n",
            "            System.out.println(\"Error reading file: \" + e.getMessage());\n",
            "        }\n",
            "    }\n",
            "\n",
            "    static class StatementVisitor extends NodeVisitor {\n",
            "        private List<String> variableNames = new ArrayList<>();\n",
            "        private List<String> variableLabels = new ArrayList<>();\n",
            "\n",
            "        @Override\n",
            "        public void visit(CaptureBindingPatternNode node) {\n",
            "            Token variableToken = node.variableName();\n",
            "            String variableLabel = variableToken.toSourceCode();\n",
            "\n",
            "            variableLabel = variableLabel.replaceAll(\"\\\\s+\", \" \"); // remove unnecessary spaces\n",
            "            variableLabels.add(variableLabel.trim());\n",
            "            System.out.println(variableLabel.trim());\n",
            "\n",
            "            StatementNode parentStatement = getParentStatement(variableToken);\n",
            "\n",
            "            if (parentStatement != null) {\n",
            "                String statementSourceCode = parentStatement.toSourceCode();\n",
            "                statementSourceCode = statementSourceCode.replaceAll(\"\\\\s+\", \" \"); // remove unnecessary spaces\n",
            "                System.out.println(statementSourceCode.trim());\n",
            "                variableNames.add(statementSourceCode.trim());\n",
            "            }\n",
            "        }\n",
            "\n",
            "        @Override\n",
            "        public void visit(ConstantDeclarationNode node) {\n",
            "            Token constantToken = node.variableName();\n",
            "            String variableLabel = constantToken.toSourceCode();\n",
            "\n",
            "            variableLabel = variableLabel.replaceAll(\"\\\\s+\", \" \"); // remove unnecessary spaces\n",
            "            variableLabels.add(variableLabel.trim());\n",
            "            System.out.println(variableLabel.trim());\n",
            "\n",
            "//            Node initializer = node.initializer();\n",
            "//            if (initializer instanceof ExpressionStatementNode) {\n",
            "//                ExpressionStatementNode expressionStatementNode = (ExpressionStatementNode) initializer;\n",
            "//                ExpressionNode expressionNode = expressionStatementNode.expression();\n",
            "//                String statementSourceCode = expressionNode.toSourceCode();\n",
            "//                statementSourceCode = statementSourceCode.replaceAll(\"\\\\s+\", \" \"); // remove unnecessary spaces\n",
            "//                System.out.println(statementSourceCode.trim());\n",
            "//                variableNames.add(statementSourceCode.trim());\n",
            "//            }\n",
            "\n",
            "            StatementNode parentStatement = getParentStatement(constantToken);\n",
            "\n",
            "            if (parentStatement != null) {\n",
            "                String statementSourceCode = parentStatement.toSourceCode();\n",
            "                statementSourceCode = statementSourceCode.replaceAll(\"\\\\s+\", \" \"); // remove unnecessary spaces\n",
            "                System.out.println(statementSourceCode.trim());\n",
            "                variableNames.add(statementSourceCode.trim());\n",
            "            }\n",
            "        }\n",
            "\n",
            "//        @Override\n",
            "//        public void visit(ModuleVariableDeclarationNode node) {\n",
            "//            Token moduleToken = node.variableName();\n",
            "//            String variableLabel = moduleToken.toSourceCode();\n",
            "//\n",
            "//            variableLabel = variableLabel.replaceAll(\"\\\\s+\", \" \"); // remove unnecessary spaces\n",
            "//            variableLabels.add(variableLabel.trim());\n",
            "//            System.out.println(variableLabel.trim());\n",
            "//\n",
            "//            Node initializer = node.initializer();\n",
            "//            if (initializer instanceof ExpressionStatementNode) {\n",
            "//                ExpressionStatementNode expressionStatementNode = (ExpressionStatementNode) initializer;\n",
            "//                ExpressionNode expressionNode = expressionStatementNode.expression();\n",
            "//                String statementSourceCode = expressionNode.toSourceCode();\n",
            "//                statementSourceCode = statementSourceCode.replaceAll(\"\\\\s+\", \" \"); // remove unnecessary spaces\n",
            "//                System.out.println(statementSourceCode.trim());\n",
            "//                variableNames.add(statementSourceCode.trim());\n",
            "//            }\n",
            "//\n",
            "//            StatementNode parentStatement = getParentStatement(constantToken);\n",
            "//\n",
            "//            if (parentStatement != null) {\n",
            "//                String statementSourceCode = parentStatement.toSourceCode();\n",
            "//                statementSourceCode = statementSourceCode.replaceAll(\"\\\\s+\", \" \"); // remove unnecessary spaces\n",
            "//                System.out.println(statementSourceCode.trim());\n",
            "//                variableNames.add(statementSourceCode.trim());\n",
            "//            }\n",
            "//        }\n",
            "\n",
            "        private StatementNode getParentStatement(Token token) {\n",
            "            NonTerminalNode parent = token.parent();\n",
            "            while (!(parent instanceof StatementNode || parent instanceof ConstantDeclarationNode)) {\n",
            "                parent = parent.parent();\n",
            "                if (parent == null) {\n",
            "                    return null;\n",
            "                }\n",
            "            }\n",
            "            return (StatementNode) parent;\n",
            "        }\n",
            "        \n",
            "        private void writeToCSV(String fileName) {\n",
            "            try {\n",
            "                FileWriter writer = new FileWriter(new File(fileName));\n",
            "\n",
            "                for (int i = 0; i <= variableLabels.size() ; i++) {\n",
            "                    if (i >= variableNames.size()) {\n",
            "                        break;\n",
            "                    }\n",
            "                    String variableLabel = variableLabels.get(i).trim();\n",
            "                    String statementSourceCode = variableNames.get(i).trim();\n",
            "                    writer.write(variableLabel + \",\" + statementSourceCode + \"\\n\");\n",
            "                }\n",
            "\n",
            "                writer.flush();\n",
            "                writer.close();\n",
            "            } catch (IOException e) {\n",
            "                System.out.println(\"Error writing to CSV file: \" + e.getMessage());\n",
            "            }\n",
            "        }\n",
            "    }\n",
            "}\n",
            "\n"
          ]
        }
      ]
    },
    {
      "cell_type": "markdown",
      "source": [
        "### Working with CSV file"
      ],
      "metadata": {
        "id": "BGgElRnXyPa7"
      }
    },
    {
      "cell_type": "code",
      "source": [
        "import numpy as np \n",
        "import pandas as pd"
      ],
      "metadata": {
        "id": "M0RfaUQuyTUF"
      },
      "execution_count": 2,
      "outputs": []
    },
    {
      "cell_type": "code",
      "source": [
        "data = pd.read_csv('/content/Greenhouse-gas-emissions-industry-and-household-March-2022-quarter.csv')"
      ],
      "metadata": {
        "id": "q71Vu5bbya-a"
      },
      "execution_count": 10,
      "outputs": []
    },
    {
      "cell_type": "code",
      "source": [
        "data.head()"
      ],
      "metadata": {
        "colab": {
          "base_uri": "https://localhost:8080/",
          "height": 206
        },
        "id": "pZTCbwvOy8Bd",
        "outputId": "0c7b6223-44c5-412c-862d-cb8a8e9a70a9"
      },
      "execution_count": 11,
      "outputs": [
        {
          "output_type": "execute_result",
          "data": {
            "text/plain": [
              "  Anzsic  Anzsic_description  Period  Data_value             Variable  \\\n",
              "0    ZPZ  Primary industries  2014Q1       11316  Seasonally adjusted   \n",
              "1    ZPZ  Primary industries  2014Q2       11178  Seasonally adjusted   \n",
              "2    ZPZ  Primary industries  2014Q3       11126  Seasonally adjusted   \n",
              "3    ZPZ  Primary industries  2014Q4       11118  Seasonally adjusted   \n",
              "4    ZPZ  Primary industries  2015Q1       11064  Seasonally adjusted   \n",
              "\n",
              "        Units                         Gas  \\\n",
              "0  Kilotonnes  Carbon dioxide equivalents   \n",
              "1  Kilotonnes  Carbon dioxide equivalents   \n",
              "2  Kilotonnes  Carbon dioxide equivalents   \n",
              "3  Kilotonnes  Carbon dioxide equivalents   \n",
              "4  Kilotonnes  Carbon dioxide equivalents   \n",
              "\n",
              "  Status                                            \n",
              "0                                P                  \n",
              "1                                P                  \n",
              "2                                P                  \n",
              "3                                P                  \n",
              "4                                P                  "
            ],
            "text/html": [
              "\n",
              "  <div id=\"df-7cd7f3be-69d7-489f-a8d7-451e085caf6b\">\n",
              "    <div class=\"colab-df-container\">\n",
              "      <div>\n",
              "<style scoped>\n",
              "    .dataframe tbody tr th:only-of-type {\n",
              "        vertical-align: middle;\n",
              "    }\n",
              "\n",
              "    .dataframe tbody tr th {\n",
              "        vertical-align: top;\n",
              "    }\n",
              "\n",
              "    .dataframe thead th {\n",
              "        text-align: right;\n",
              "    }\n",
              "</style>\n",
              "<table border=\"1\" class=\"dataframe\">\n",
              "  <thead>\n",
              "    <tr style=\"text-align: right;\">\n",
              "      <th></th>\n",
              "      <th>Anzsic</th>\n",
              "      <th>Anzsic_description</th>\n",
              "      <th>Period</th>\n",
              "      <th>Data_value</th>\n",
              "      <th>Variable</th>\n",
              "      <th>Units</th>\n",
              "      <th>Gas</th>\n",
              "      <th>Status</th>\n",
              "    </tr>\n",
              "  </thead>\n",
              "  <tbody>\n",
              "    <tr>\n",
              "      <th>0</th>\n",
              "      <td>ZPZ</td>\n",
              "      <td>Primary industries</td>\n",
              "      <td>2014Q1</td>\n",
              "      <td>11316</td>\n",
              "      <td>Seasonally adjusted</td>\n",
              "      <td>Kilotonnes</td>\n",
              "      <td>Carbon dioxide equivalents</td>\n",
              "      <td>P</td>\n",
              "    </tr>\n",
              "    <tr>\n",
              "      <th>1</th>\n",
              "      <td>ZPZ</td>\n",
              "      <td>Primary industries</td>\n",
              "      <td>2014Q2</td>\n",
              "      <td>11178</td>\n",
              "      <td>Seasonally adjusted</td>\n",
              "      <td>Kilotonnes</td>\n",
              "      <td>Carbon dioxide equivalents</td>\n",
              "      <td>P</td>\n",
              "    </tr>\n",
              "    <tr>\n",
              "      <th>2</th>\n",
              "      <td>ZPZ</td>\n",
              "      <td>Primary industries</td>\n",
              "      <td>2014Q3</td>\n",
              "      <td>11126</td>\n",
              "      <td>Seasonally adjusted</td>\n",
              "      <td>Kilotonnes</td>\n",
              "      <td>Carbon dioxide equivalents</td>\n",
              "      <td>P</td>\n",
              "    </tr>\n",
              "    <tr>\n",
              "      <th>3</th>\n",
              "      <td>ZPZ</td>\n",
              "      <td>Primary industries</td>\n",
              "      <td>2014Q4</td>\n",
              "      <td>11118</td>\n",
              "      <td>Seasonally adjusted</td>\n",
              "      <td>Kilotonnes</td>\n",
              "      <td>Carbon dioxide equivalents</td>\n",
              "      <td>P</td>\n",
              "    </tr>\n",
              "    <tr>\n",
              "      <th>4</th>\n",
              "      <td>ZPZ</td>\n",
              "      <td>Primary industries</td>\n",
              "      <td>2015Q1</td>\n",
              "      <td>11064</td>\n",
              "      <td>Seasonally adjusted</td>\n",
              "      <td>Kilotonnes</td>\n",
              "      <td>Carbon dioxide equivalents</td>\n",
              "      <td>P</td>\n",
              "    </tr>\n",
              "  </tbody>\n",
              "</table>\n",
              "</div>\n",
              "      <button class=\"colab-df-convert\" onclick=\"convertToInteractive('df-7cd7f3be-69d7-489f-a8d7-451e085caf6b')\"\n",
              "              title=\"Convert this dataframe to an interactive table.\"\n",
              "              style=\"display:none;\">\n",
              "        \n",
              "  <svg xmlns=\"http://www.w3.org/2000/svg\" height=\"24px\"viewBox=\"0 0 24 24\"\n",
              "       width=\"24px\">\n",
              "    <path d=\"M0 0h24v24H0V0z\" fill=\"none\"/>\n",
              "    <path d=\"M18.56 5.44l.94 2.06.94-2.06 2.06-.94-2.06-.94-.94-2.06-.94 2.06-2.06.94zm-11 1L8.5 8.5l.94-2.06 2.06-.94-2.06-.94L8.5 2.5l-.94 2.06-2.06.94zm10 10l.94 2.06.94-2.06 2.06-.94-2.06-.94-.94-2.06-.94 2.06-2.06.94z\"/><path d=\"M17.41 7.96l-1.37-1.37c-.4-.4-.92-.59-1.43-.59-.52 0-1.04.2-1.43.59L10.3 9.45l-7.72 7.72c-.78.78-.78 2.05 0 2.83L4 21.41c.39.39.9.59 1.41.59.51 0 1.02-.2 1.41-.59l7.78-7.78 2.81-2.81c.8-.78.8-2.07 0-2.86zM5.41 20L4 18.59l7.72-7.72 1.47 1.35L5.41 20z\"/>\n",
              "  </svg>\n",
              "      </button>\n",
              "      \n",
              "  <style>\n",
              "    .colab-df-container {\n",
              "      display:flex;\n",
              "      flex-wrap:wrap;\n",
              "      gap: 12px;\n",
              "    }\n",
              "\n",
              "    .colab-df-convert {\n",
              "      background-color: #E8F0FE;\n",
              "      border: none;\n",
              "      border-radius: 50%;\n",
              "      cursor: pointer;\n",
              "      display: none;\n",
              "      fill: #1967D2;\n",
              "      height: 32px;\n",
              "      padding: 0 0 0 0;\n",
              "      width: 32px;\n",
              "    }\n",
              "\n",
              "    .colab-df-convert:hover {\n",
              "      background-color: #E2EBFA;\n",
              "      box-shadow: 0px 1px 2px rgba(60, 64, 67, 0.3), 0px 1px 3px 1px rgba(60, 64, 67, 0.15);\n",
              "      fill: #174EA6;\n",
              "    }\n",
              "\n",
              "    [theme=dark] .colab-df-convert {\n",
              "      background-color: #3B4455;\n",
              "      fill: #D2E3FC;\n",
              "    }\n",
              "\n",
              "    [theme=dark] .colab-df-convert:hover {\n",
              "      background-color: #434B5C;\n",
              "      box-shadow: 0px 1px 3px 1px rgba(0, 0, 0, 0.15);\n",
              "      filter: drop-shadow(0px 1px 2px rgba(0, 0, 0, 0.3));\n",
              "      fill: #FFFFFF;\n",
              "    }\n",
              "  </style>\n",
              "\n",
              "      <script>\n",
              "        const buttonEl =\n",
              "          document.querySelector('#df-7cd7f3be-69d7-489f-a8d7-451e085caf6b button.colab-df-convert');\n",
              "        buttonEl.style.display =\n",
              "          google.colab.kernel.accessAllowed ? 'block' : 'none';\n",
              "\n",
              "        async function convertToInteractive(key) {\n",
              "          const element = document.querySelector('#df-7cd7f3be-69d7-489f-a8d7-451e085caf6b');\n",
              "          const dataTable =\n",
              "            await google.colab.kernel.invokeFunction('convertToInteractive',\n",
              "                                                     [key], {});\n",
              "          if (!dataTable) return;\n",
              "\n",
              "          const docLinkHtml = 'Like what you see? Visit the ' +\n",
              "            '<a target=\"_blank\" href=https://colab.research.google.com/notebooks/data_table.ipynb>data table notebook</a>'\n",
              "            + ' to learn more about interactive tables.';\n",
              "          element.innerHTML = '';\n",
              "          dataTable['output_type'] = 'display_data';\n",
              "          await google.colab.output.renderOutput(dataTable, element);\n",
              "          const docLink = document.createElement('div');\n",
              "          docLink.innerHTML = docLinkHtml;\n",
              "          element.appendChild(docLink);\n",
              "        }\n",
              "      </script>\n",
              "    </div>\n",
              "  </div>\n",
              "  "
            ]
          },
          "metadata": {},
          "execution_count": 11
        }
      ]
    },
    {
      "cell_type": "code",
      "source": [
        "data.columns"
      ],
      "metadata": {
        "colab": {
          "base_uri": "https://localhost:8080/"
        },
        "id": "MxRi-jIWzJrJ",
        "outputId": "ae07c264-db44-4b23-b44f-c56c3de414ee"
      },
      "execution_count": 12,
      "outputs": [
        {
          "output_type": "execute_result",
          "data": {
            "text/plain": [
              "Index(['Anzsic', 'Anzsic_description', 'Period', 'Data_value', 'Variable',\n",
              "       'Units', 'Gas', 'Status                                          '],\n",
              "      dtype='object')"
            ]
          },
          "metadata": {},
          "execution_count": 12
        }
      ]
    },
    {
      "cell_type": "code",
      "source": [
        "data.shape"
      ],
      "metadata": {
        "colab": {
          "base_uri": "https://localhost:8080/"
        },
        "id": "_GaMy8GipyZg",
        "outputId": "87ed3da1-678b-408a-98db-24c78ae15b9f"
      },
      "execution_count": 21,
      "outputs": [
        {
          "output_type": "execute_result",
          "data": {
            "text/plain": [
              "(1056, 8)"
            ]
          },
          "metadata": {},
          "execution_count": 21
        }
      ]
    },
    {
      "cell_type": "code",
      "source": [
        "data.describe()"
      ],
      "metadata": {
        "colab": {
          "base_uri": "https://localhost:8080/",
          "height": 300
        },
        "id": "O_dsCJT2p3Y5",
        "outputId": "d20d18b6-47e5-4dd7-f0a9-973cb1441357"
      },
      "execution_count": 22,
      "outputs": [
        {
          "output_type": "execute_result",
          "data": {
            "text/plain": [
              "         Data_value\n",
              "count   1056.000000\n",
              "mean    4991.100379\n",
              "std     6399.422212\n",
              "min       59.000000\n",
              "25%      531.500000\n",
              "50%     2028.500000\n",
              "75%     6597.500000\n",
              "max    23277.000000"
            ],
            "text/html": [
              "\n",
              "  <div id=\"df-25de9b8e-3041-421e-9a15-20bdd2b29513\">\n",
              "    <div class=\"colab-df-container\">\n",
              "      <div>\n",
              "<style scoped>\n",
              "    .dataframe tbody tr th:only-of-type {\n",
              "        vertical-align: middle;\n",
              "    }\n",
              "\n",
              "    .dataframe tbody tr th {\n",
              "        vertical-align: top;\n",
              "    }\n",
              "\n",
              "    .dataframe thead th {\n",
              "        text-align: right;\n",
              "    }\n",
              "</style>\n",
              "<table border=\"1\" class=\"dataframe\">\n",
              "  <thead>\n",
              "    <tr style=\"text-align: right;\">\n",
              "      <th></th>\n",
              "      <th>Data_value</th>\n",
              "    </tr>\n",
              "  </thead>\n",
              "  <tbody>\n",
              "    <tr>\n",
              "      <th>count</th>\n",
              "      <td>1056.000000</td>\n",
              "    </tr>\n",
              "    <tr>\n",
              "      <th>mean</th>\n",
              "      <td>4991.100379</td>\n",
              "    </tr>\n",
              "    <tr>\n",
              "      <th>std</th>\n",
              "      <td>6399.422212</td>\n",
              "    </tr>\n",
              "    <tr>\n",
              "      <th>min</th>\n",
              "      <td>59.000000</td>\n",
              "    </tr>\n",
              "    <tr>\n",
              "      <th>25%</th>\n",
              "      <td>531.500000</td>\n",
              "    </tr>\n",
              "    <tr>\n",
              "      <th>50%</th>\n",
              "      <td>2028.500000</td>\n",
              "    </tr>\n",
              "    <tr>\n",
              "      <th>75%</th>\n",
              "      <td>6597.500000</td>\n",
              "    </tr>\n",
              "    <tr>\n",
              "      <th>max</th>\n",
              "      <td>23277.000000</td>\n",
              "    </tr>\n",
              "  </tbody>\n",
              "</table>\n",
              "</div>\n",
              "      <button class=\"colab-df-convert\" onclick=\"convertToInteractive('df-25de9b8e-3041-421e-9a15-20bdd2b29513')\"\n",
              "              title=\"Convert this dataframe to an interactive table.\"\n",
              "              style=\"display:none;\">\n",
              "        \n",
              "  <svg xmlns=\"http://www.w3.org/2000/svg\" height=\"24px\"viewBox=\"0 0 24 24\"\n",
              "       width=\"24px\">\n",
              "    <path d=\"M0 0h24v24H0V0z\" fill=\"none\"/>\n",
              "    <path d=\"M18.56 5.44l.94 2.06.94-2.06 2.06-.94-2.06-.94-.94-2.06-.94 2.06-2.06.94zm-11 1L8.5 8.5l.94-2.06 2.06-.94-2.06-.94L8.5 2.5l-.94 2.06-2.06.94zm10 10l.94 2.06.94-2.06 2.06-.94-2.06-.94-.94-2.06-.94 2.06-2.06.94z\"/><path d=\"M17.41 7.96l-1.37-1.37c-.4-.4-.92-.59-1.43-.59-.52 0-1.04.2-1.43.59L10.3 9.45l-7.72 7.72c-.78.78-.78 2.05 0 2.83L4 21.41c.39.39.9.59 1.41.59.51 0 1.02-.2 1.41-.59l7.78-7.78 2.81-2.81c.8-.78.8-2.07 0-2.86zM5.41 20L4 18.59l7.72-7.72 1.47 1.35L5.41 20z\"/>\n",
              "  </svg>\n",
              "      </button>\n",
              "      \n",
              "  <style>\n",
              "    .colab-df-container {\n",
              "      display:flex;\n",
              "      flex-wrap:wrap;\n",
              "      gap: 12px;\n",
              "    }\n",
              "\n",
              "    .colab-df-convert {\n",
              "      background-color: #E8F0FE;\n",
              "      border: none;\n",
              "      border-radius: 50%;\n",
              "      cursor: pointer;\n",
              "      display: none;\n",
              "      fill: #1967D2;\n",
              "      height: 32px;\n",
              "      padding: 0 0 0 0;\n",
              "      width: 32px;\n",
              "    }\n",
              "\n",
              "    .colab-df-convert:hover {\n",
              "      background-color: #E2EBFA;\n",
              "      box-shadow: 0px 1px 2px rgba(60, 64, 67, 0.3), 0px 1px 3px 1px rgba(60, 64, 67, 0.15);\n",
              "      fill: #174EA6;\n",
              "    }\n",
              "\n",
              "    [theme=dark] .colab-df-convert {\n",
              "      background-color: #3B4455;\n",
              "      fill: #D2E3FC;\n",
              "    }\n",
              "\n",
              "    [theme=dark] .colab-df-convert:hover {\n",
              "      background-color: #434B5C;\n",
              "      box-shadow: 0px 1px 3px 1px rgba(0, 0, 0, 0.15);\n",
              "      filter: drop-shadow(0px 1px 2px rgba(0, 0, 0, 0.3));\n",
              "      fill: #FFFFFF;\n",
              "    }\n",
              "  </style>\n",
              "\n",
              "      <script>\n",
              "        const buttonEl =\n",
              "          document.querySelector('#df-25de9b8e-3041-421e-9a15-20bdd2b29513 button.colab-df-convert');\n",
              "        buttonEl.style.display =\n",
              "          google.colab.kernel.accessAllowed ? 'block' : 'none';\n",
              "\n",
              "        async function convertToInteractive(key) {\n",
              "          const element = document.querySelector('#df-25de9b8e-3041-421e-9a15-20bdd2b29513');\n",
              "          const dataTable =\n",
              "            await google.colab.kernel.invokeFunction('convertToInteractive',\n",
              "                                                     [key], {});\n",
              "          if (!dataTable) return;\n",
              "\n",
              "          const docLinkHtml = 'Like what you see? Visit the ' +\n",
              "            '<a target=\"_blank\" href=https://colab.research.google.com/notebooks/data_table.ipynb>data table notebook</a>'\n",
              "            + ' to learn more about interactive tables.';\n",
              "          element.innerHTML = '';\n",
              "          dataTable['output_type'] = 'display_data';\n",
              "          await google.colab.output.renderOutput(dataTable, element);\n",
              "          const docLink = document.createElement('div');\n",
              "          docLink.innerHTML = docLinkHtml;\n",
              "          element.appendChild(docLink);\n",
              "        }\n",
              "      </script>\n",
              "    </div>\n",
              "  </div>\n",
              "  "
            ]
          },
          "metadata": {},
          "execution_count": 22
        }
      ]
    },
    {
      "cell_type": "code",
      "source": [
        "data.isnull().sum()"
      ],
      "metadata": {
        "colab": {
          "base_uri": "https://localhost:8080/"
        },
        "id": "LFSQ2tYkqCoz",
        "outputId": "c9f35a4d-adfd-4f46-b7ac-2ba433110f16"
      },
      "execution_count": 23,
      "outputs": [
        {
          "output_type": "execute_result",
          "data": {
            "text/plain": [
              "Anzsic                                                0\n",
              "Anzsic_description                                    0\n",
              "Period                                                1\n",
              "Data_value                                            0\n",
              "Variable                                              0\n",
              "Units                                                 0\n",
              "Gas                                                   0\n",
              "Status                                              131\n",
              "dtype: int64"
            ]
          },
          "metadata": {},
          "execution_count": 23
        }
      ]
    },
    {
      "cell_type": "code",
      "source": [
        "data.isnull().any()"
      ],
      "metadata": {
        "colab": {
          "base_uri": "https://localhost:8080/"
        },
        "id": "RkYzCxthqiZG",
        "outputId": "692762d6-d87e-4031-cdca-51a5e2260de2"
      },
      "execution_count": 24,
      "outputs": [
        {
          "output_type": "execute_result",
          "data": {
            "text/plain": [
              "Anzsic                                              False\n",
              "Anzsic_description                                  False\n",
              "Period                                               True\n",
              "Data_value                                          False\n",
              "Variable                                            False\n",
              "Units                                               False\n",
              "Gas                                                 False\n",
              "Status                                               True\n",
              "dtype: bool"
            ]
          },
          "metadata": {},
          "execution_count": 24
        }
      ]
    },
    {
      "cell_type": "code",
      "source": [
        "# Remove null values\n",
        "\n",
        "data_part = data.dropna()"
      ],
      "metadata": {
        "id": "srkG1h7urcXl"
      },
      "execution_count": 25,
      "outputs": []
    },
    {
      "cell_type": "code",
      "source": [
        "data_part.isnull().sum()"
      ],
      "metadata": {
        "colab": {
          "base_uri": "https://localhost:8080/"
        },
        "id": "u3Wlv3WbrkBY",
        "outputId": "a558ef74-e467-403e-901a-58865c5dd50f"
      },
      "execution_count": 26,
      "outputs": [
        {
          "output_type": "execute_result",
          "data": {
            "text/plain": [
              "Anzsic                                              0\n",
              "Anzsic_description                                  0\n",
              "Period                                              0\n",
              "Data_value                                          0\n",
              "Variable                                            0\n",
              "Units                                               0\n",
              "Gas                                                 0\n",
              "Status                                              0\n",
              "dtype: int64"
            ]
          },
          "metadata": {},
          "execution_count": 26
        }
      ]
    },
    {
      "cell_type": "code",
      "source": [
        "data_part.shape"
      ],
      "metadata": {
        "colab": {
          "base_uri": "https://localhost:8080/"
        },
        "id": "Jc1vMJiFrzSF",
        "outputId": "0765ccf1-f405-4f56-f1f9-8b5c34eec136"
      },
      "execution_count": 27,
      "outputs": [
        {
          "output_type": "execute_result",
          "data": {
            "text/plain": [
              "(924, 8)"
            ]
          },
          "metadata": {},
          "execution_count": 27
        }
      ]
    },
    {
      "cell_type": "markdown",
      "source": [
        "# Tokenization"
      ],
      "metadata": {
        "id": "AqbytCdl0_DY"
      }
    },
    {
      "cell_type": "markdown",
      "source": [
        "### Line tokenization"
      ],
      "metadata": {
        "id": "xZ1dcDaa1bdz"
      }
    },
    {
      "cell_type": "code",
      "source": [
        "import nltk\n",
        "nltk.download('punkt')\n",
        "data = \"Welcome to Natural Language Processing. I am very happy to be the part of the Natural Language Processing.\"\n",
        "tokens = nltk.sent_tokenize(data)\n",
        "print(tokens)"
      ],
      "metadata": {
        "colab": {
          "base_uri": "https://localhost:8080/"
        },
        "id": "sS2Lg7ww1WD9",
        "outputId": "e637aec7-fc99-4e2a-81f3-296cac7ff91d"
      },
      "execution_count": 1,
      "outputs": [
        {
          "output_type": "stream",
          "name": "stderr",
          "text": [
            "[nltk_data] Downloading package punkt to /root/nltk_data...\n",
            "[nltk_data]   Unzipping tokenizers/punkt.zip.\n"
          ]
        },
        {
          "output_type": "stream",
          "name": "stdout",
          "text": [
            "['Welcome to Natural Language Processing.', 'I am very happy to be the part of the Natural Language Processing.']\n"
          ]
        }
      ]
    },
    {
      "cell_type": "markdown",
      "source": [
        "### Word tokenization"
      ],
      "metadata": {
        "id": "4EIVyFPR6XnI"
      }
    },
    {
      "cell_type": "code",
      "source": [
        "tokens = nltk.word_tokenize(data)\n",
        "print(tokens)\n",
        "# tokens.count()\n",
        "type(tokens)\n",
        "# len(tokens)"
      ],
      "metadata": {
        "colab": {
          "base_uri": "https://localhost:8080/"
        },
        "id": "vxIzV1Kj6cSK",
        "outputId": "3be90354-c7e3-4196-f2d8-dcbc57052292"
      },
      "execution_count": 2,
      "outputs": [
        {
          "output_type": "stream",
          "name": "stdout",
          "text": [
            "['Welcome', 'to', 'Natural', 'Language', 'Processing', '.', 'I', 'am', 'very', 'happy', 'to', 'be', 'the', 'part', 'of', 'the', 'Natural', 'Language', 'Processing', '.']\n"
          ]
        },
        {
          "output_type": "execute_result",
          "data": {
            "text/plain": [
              "list"
            ]
          },
          "metadata": {},
          "execution_count": 2
        }
      ]
    },
    {
      "cell_type": "markdown",
      "source": [
        "# Stemming"
      ],
      "metadata": {
        "id": "3bVfsqFT8k-c"
      }
    },
    {
      "cell_type": "code",
      "source": [],
      "metadata": {
        "id": "Ko4ycje18nBW"
      },
      "execution_count": null,
      "outputs": []
    }
  ]
}